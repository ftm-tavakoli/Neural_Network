{
  "nbformat": 4,
  "nbformat_minor": 0,
  "metadata": {
    "colab": {
      "name": "elman_jordan.ipynb",
      "provenance": [],
      "collapsed_sections": []
    },
    "kernelspec": {
      "name": "python3",
      "display_name": "Python 3"
    },
    "language_info": {
      "name": "python"
    }
  },
  "cells": [
    {
      "cell_type": "code",
      "execution_count": 54,
      "metadata": {
        "id": "8skku7nYKy5E"
      },
      "outputs": [],
      "source": [
        "import numpy as np\n",
        "import tensorflow as tf\n",
        "from tensorflow import keras\n",
        "import matplotlib.pyplot as plt\n",
        "import pandas as pd\n",
        "from sklearn.model_selection import train_test_split\n",
        "from sklearn.metrics import classification_report, confusion_matrix"
      ]
    },
    {
      "cell_type": "code",
      "source": [
        "def load_ds(path):\n",
        "    with open(path) as f:\n",
        "        data = f.read()\n",
        "        sub_data_list = data.split(\"\\n\\n\\n\")\n",
        "        tags_list = []\n",
        "        data = []\n",
        "        for s in sub_data_list:\n",
        "            detail: list = s.split(\"\\n\")\n",
        "            if not detail or len(detail) < 2:\n",
        "                continue\n",
        "            tag = detail[0]\n",
        "            tags_list.append(int(tag in [\"normal\", \"ok\"]))\n",
        "            this_section_detail = []\n",
        "            for row in detail[1:]:\n",
        "                row_list = row.split(\"\\t\")[1:]\n",
        "                if row_list:\n",
        "                    this_section_detail.append(row_list)\n",
        "            if this_section_detail:\n",
        "                data.append(this_section_detail)\n",
        "    return data, tags_list\n",
        "\n",
        "\n",
        "tag_list = []\n",
        "data_list = []\n",
        "\n",
        "for i in range(1, 6):\n",
        "    data, tags = load_ds(path=f'lp{i}.data')\n",
        "    data_list.extend(data)\n",
        "    tag_list.extend(tags)\n",
        "    \n",
        "for i in data_list:\n",
        "    assert len(i) == 15\n",
        "    for j in i:\n",
        "        assert len(j) == 6\n",
        "\n",
        "data = np.array(data_list, dtype=int)\n",
        "tags = np.array(tag_list)\n",
        "data = data / np.max(data, axis=0)"
      ],
      "metadata": {
        "id": "ZzdgBuOLgHIh"
      },
      "execution_count": 55,
      "outputs": []
    },
    {
      "cell_type": "code",
      "source": [
        "data.shape"
      ],
      "metadata": {
        "colab": {
          "base_uri": "https://localhost:8080/"
        },
        "id": "SvPNcv_BN4TL",
        "outputId": "5cea648d-387b-4c9d-8b6d-78c50a9bc797"
      },
      "execution_count": null,
      "outputs": [
        {
          "output_type": "execute_result",
          "data": {
            "text/plain": [
              "(463, 15, 6)"
            ]
          },
          "metadata": {},
          "execution_count": 33
        }
      ]
    },
    {
      "cell_type": "code",
      "source": [
        "X_train, X_test, y_train, y_test = train_test_split(data, tags, test_size=0.3, random_state=22)\n",
        "X_test , X_val, y_test, y_val =train_test_split(X_test,y_test,test_size=0.33,random_state=22)"
      ],
      "metadata": {
        "id": "pwj4yM9nkl7Q"
      },
      "execution_count": 56,
      "outputs": []
    },
    {
      "cell_type": "markdown",
      "source": [
        "**elman**"
      ],
      "metadata": {
        "id": "76aAhg2ZZ35s"
      }
    },
    {
      "cell_type": "code",
      "source": [
        "elman_model = keras.models.Sequential()\n",
        "elman_model.add(keras.layers.Input(shape=(15,6)))\n",
        "elman_model.add(keras.layers.SimpleRNN(10))\n",
        "elman_model.add(keras.layers.Dense(2,activation=\"softmax\"))\n",
        "elman_model.compile(optimizer=\"adam\",loss=\"sparse_categorical_crossentropy\",metrics=[\"acc\"])\n",
        "elman_model.fit(X_train,y_train,epochs=50)"
      ],
      "metadata": {
        "colab": {
          "base_uri": "https://localhost:8080/"
        },
        "id": "0pmp1a-hnygl",
        "outputId": "3925f45a-f96e-4698-81b9-bfc5680612a7"
      },
      "execution_count": 58,
      "outputs": [
        {
          "output_type": "stream",
          "name": "stdout",
          "text": [
            "Epoch 1/50\n",
            "11/11 [==============================] - 1s 6ms/step - loss: 0.7055 - acc: 0.5957\n",
            "Epoch 2/50\n",
            "11/11 [==============================] - 0s 7ms/step - loss: 0.6520 - acc: 0.6605\n",
            "Epoch 3/50\n",
            "11/11 [==============================] - 0s 5ms/step - loss: 0.6221 - acc: 0.6759\n",
            "Epoch 4/50\n",
            "11/11 [==============================] - 0s 5ms/step - loss: 0.6018 - acc: 0.6543\n",
            "Epoch 5/50\n",
            "11/11 [==============================] - 0s 5ms/step - loss: 0.5831 - acc: 0.6574\n",
            "Epoch 6/50\n",
            "11/11 [==============================] - 0s 6ms/step - loss: 0.5680 - acc: 0.6975\n",
            "Epoch 7/50\n",
            "11/11 [==============================] - 0s 5ms/step - loss: 0.5558 - acc: 0.6975\n",
            "Epoch 8/50\n",
            "11/11 [==============================] - 0s 5ms/step - loss: 0.5465 - acc: 0.7068\n",
            "Epoch 9/50\n",
            "11/11 [==============================] - 0s 5ms/step - loss: 0.5401 - acc: 0.6728\n",
            "Epoch 10/50\n",
            "11/11 [==============================] - 0s 5ms/step - loss: 0.5357 - acc: 0.7099\n",
            "Epoch 11/50\n",
            "11/11 [==============================] - 0s 6ms/step - loss: 0.5296 - acc: 0.7222\n",
            "Epoch 12/50\n",
            "11/11 [==============================] - 0s 5ms/step - loss: 0.5267 - acc: 0.7068\n",
            "Epoch 13/50\n",
            "11/11 [==============================] - 0s 4ms/step - loss: 0.5209 - acc: 0.6821\n",
            "Epoch 14/50\n",
            "11/11 [==============================] - 0s 4ms/step - loss: 0.5146 - acc: 0.6883\n",
            "Epoch 15/50\n",
            "11/11 [==============================] - 0s 4ms/step - loss: 0.5071 - acc: 0.7222\n",
            "Epoch 16/50\n",
            "11/11 [==============================] - 0s 4ms/step - loss: 0.4964 - acc: 0.7284\n",
            "Epoch 17/50\n",
            "11/11 [==============================] - 0s 4ms/step - loss: 0.4827 - acc: 0.7253\n",
            "Epoch 18/50\n",
            "11/11 [==============================] - 0s 6ms/step - loss: 0.4711 - acc: 0.7593\n",
            "Epoch 19/50\n",
            "11/11 [==============================] - 0s 4ms/step - loss: 0.4499 - acc: 0.7407\n",
            "Epoch 20/50\n",
            "11/11 [==============================] - 0s 4ms/step - loss: 0.4248 - acc: 0.7932\n",
            "Epoch 21/50\n",
            "11/11 [==============================] - 0s 4ms/step - loss: 0.4001 - acc: 0.8025\n",
            "Epoch 22/50\n",
            "11/11 [==============================] - 0s 4ms/step - loss: 0.3902 - acc: 0.8148\n",
            "Epoch 23/50\n",
            "11/11 [==============================] - 0s 4ms/step - loss: 0.4033 - acc: 0.7870\n",
            "Epoch 24/50\n",
            "11/11 [==============================] - 0s 4ms/step - loss: 0.3773 - acc: 0.8148\n",
            "Epoch 25/50\n",
            "11/11 [==============================] - 0s 4ms/step - loss: 0.3690 - acc: 0.8241\n",
            "Epoch 26/50\n",
            "11/11 [==============================] - 0s 4ms/step - loss: 0.3637 - acc: 0.8210\n",
            "Epoch 27/50\n",
            "11/11 [==============================] - 0s 4ms/step - loss: 0.3665 - acc: 0.8148\n",
            "Epoch 28/50\n",
            "11/11 [==============================] - 0s 6ms/step - loss: 0.3603 - acc: 0.8117\n",
            "Epoch 29/50\n",
            "11/11 [==============================] - 0s 7ms/step - loss: 0.3517 - acc: 0.8210\n",
            "Epoch 30/50\n",
            "11/11 [==============================] - 0s 7ms/step - loss: 0.3459 - acc: 0.8333\n",
            "Epoch 31/50\n",
            "11/11 [==============================] - 0s 9ms/step - loss: 0.3465 - acc: 0.8210\n",
            "Epoch 32/50\n",
            "11/11 [==============================] - 0s 8ms/step - loss: 0.3350 - acc: 0.8395\n",
            "Epoch 33/50\n",
            "11/11 [==============================] - 0s 7ms/step - loss: 0.3347 - acc: 0.8333\n",
            "Epoch 34/50\n",
            "11/11 [==============================] - 0s 7ms/step - loss: 0.3325 - acc: 0.8210\n",
            "Epoch 35/50\n",
            "11/11 [==============================] - 0s 9ms/step - loss: 0.3267 - acc: 0.8457\n",
            "Epoch 36/50\n",
            "11/11 [==============================] - 0s 7ms/step - loss: 0.3345 - acc: 0.8364\n",
            "Epoch 37/50\n",
            "11/11 [==============================] - 0s 7ms/step - loss: 0.3234 - acc: 0.8549\n",
            "Epoch 38/50\n",
            "11/11 [==============================] - 0s 8ms/step - loss: 0.3496 - acc: 0.8364\n",
            "Epoch 39/50\n",
            "11/11 [==============================] - 0s 7ms/step - loss: 0.3135 - acc: 0.8704\n",
            "Epoch 40/50\n",
            "11/11 [==============================] - 0s 9ms/step - loss: 0.3085 - acc: 0.8796\n",
            "Epoch 41/50\n",
            "11/11 [==============================] - 0s 6ms/step - loss: 0.2976 - acc: 0.8704\n",
            "Epoch 42/50\n",
            "11/11 [==============================] - 0s 5ms/step - loss: 0.3033 - acc: 0.8704\n",
            "Epoch 43/50\n",
            "11/11 [==============================] - 0s 6ms/step - loss: 0.2911 - acc: 0.8765\n",
            "Epoch 44/50\n",
            "11/11 [==============================] - 0s 5ms/step - loss: 0.2783 - acc: 0.8951\n",
            "Epoch 45/50\n",
            "11/11 [==============================] - 0s 6ms/step - loss: 0.2757 - acc: 0.8920\n",
            "Epoch 46/50\n",
            "11/11 [==============================] - 0s 6ms/step - loss: 0.2854 - acc: 0.8735\n",
            "Epoch 47/50\n",
            "11/11 [==============================] - 0s 5ms/step - loss: 0.2796 - acc: 0.8858\n",
            "Epoch 48/50\n",
            "11/11 [==============================] - 0s 5ms/step - loss: 0.2707 - acc: 0.8858\n",
            "Epoch 49/50\n",
            "11/11 [==============================] - 0s 4ms/step - loss: 0.2811 - acc: 0.8796\n",
            "Epoch 50/50\n",
            "11/11 [==============================] - 0s 5ms/step - loss: 0.2957 - acc: 0.8673\n"
          ]
        },
        {
          "output_type": "execute_result",
          "data": {
            "text/plain": [
              "<keras.callbacks.History at 0x7f0d68a25710>"
            ]
          },
          "metadata": {},
          "execution_count": 58
        }
      ]
    },
    {
      "cell_type": "code",
      "source": [
        "elman_model.evaluate(X_test,y_test)"
      ],
      "metadata": {
        "colab": {
          "base_uri": "https://localhost:8080/"
        },
        "id": "17xxsFwOlQN6",
        "outputId": "edbacddd-ca6e-4f59-89ad-b8fa75223c7b"
      },
      "execution_count": 59,
      "outputs": [
        {
          "output_type": "stream",
          "name": "stdout",
          "text": [
            "3/3 [==============================] - 0s 5ms/step - loss: 0.3222 - acc: 0.8387\n"
          ]
        },
        {
          "output_type": "execute_result",
          "data": {
            "text/plain": [
              "[0.3222469091415405, 0.8387096524238586]"
            ]
          },
          "metadata": {},
          "execution_count": 59
        }
      ]
    },
    {
      "cell_type": "markdown",
      "source": [
        "**jordan**"
      ],
      "metadata": {
        "id": "2D4T8IGkZ773"
      }
    },
    {
      "cell_type": "code",
      "source": [
        "class jordanRNN(keras.layers.Layer):\n",
        "\n",
        "    def __init__(self, run_units,**kwargs):\n",
        "        super().__init__(**kwargs)\n",
        "        self.run_units = run_units\n",
        "        self.state_size = run_units\n",
        "        \n",
        "\n",
        "    def build(self, input_shapes):\n",
        "\n",
        "        self.W_xh = self.add_weight(shape=(input_shapes[-1], self.run_units),initializer='uniform',\n",
        "                                      name='W_xh')\n",
        "        self.W_hh = self.add_weight(shape=(self.run_units, self.run_units),initializer='uniform',name='W_hh')\n",
        "        self.W_hy = self.add_weight(shape=(self.run_units,self.run_units))\n",
        "        self.built=True\n",
        "\n",
        "\n",
        "    def call(self, inputs, states):\n",
        "        prev_output = states[0]\n",
        "        h=tf.keras.activations.relu(tf.keras.backend.dot(inputs, self.W_xh) + tf.keras.backend.dot(prev_output, self.W_hh))\n",
        "        output = tf.keras.activations.relu(tf.keras.backend.dot(h, self.W_hy))\n",
        "        return output, [output]\n",
        "\n",
        "    def get_config(self):\n",
        "        config = super().get_config()\n",
        "        config.update({\n",
        "            \"run_units\": self.run_units,\n",
        "        })\n",
        "        return config\n",
        "cell = jordanRNN(64)\n",
        "RNN_layer = keras.layers.RNN(cell)\n",
        "\n",
        "\n",
        "jordan_model = keras.models.Sequential()\n",
        "jordan_model.add(keras.Input(shape=(15, 6)))\n",
        "jordan_model.add(RNN_layer)\n",
        "jordan_model.add(keras.layers.Dense(2, activation='softmax'))"
      ],
      "metadata": {
        "id": "j1lc30LHZ_xn"
      },
      "execution_count": 70,
      "outputs": []
    },
    {
      "cell_type": "code",
      "source": [
        "jordan_model.compile(optimizer=\"adam\", loss=\"sparse_categorical_crossentropy\" , metrics=[\"accuracy\"])"
      ],
      "metadata": {
        "id": "VSYpCOliaXYa"
      },
      "execution_count": 71,
      "outputs": []
    },
    {
      "cell_type": "code",
      "source": [
        "jordan_model.fit(X_train, y_train, epochs=60)"
      ],
      "metadata": {
        "colab": {
          "base_uri": "https://localhost:8080/"
        },
        "id": "VrwrQqPpaZen",
        "outputId": "fec61a4a-23de-4c4b-be1f-44326fd9074b"
      },
      "execution_count": 75,
      "outputs": [
        {
          "output_type": "stream",
          "name": "stdout",
          "text": [
            "Epoch 1/60\n",
            "11/11 [==============================] - 0s 14ms/step - loss: 0.3558 - accuracy: 0.7809\n",
            "Epoch 2/60\n",
            "11/11 [==============================] - 0s 10ms/step - loss: 0.3541 - accuracy: 0.7809\n",
            "Epoch 3/60\n",
            "11/11 [==============================] - 0s 15ms/step - loss: 0.3506 - accuracy: 0.7809\n",
            "Epoch 4/60\n",
            "11/11 [==============================] - 0s 13ms/step - loss: 0.3393 - accuracy: 0.7932\n",
            "Epoch 5/60\n",
            "11/11 [==============================] - 0s 11ms/step - loss: 0.3106 - accuracy: 0.8210\n",
            "Epoch 6/60\n",
            "11/11 [==============================] - 0s 15ms/step - loss: 0.3092 - accuracy: 0.8210\n",
            "Epoch 7/60\n",
            "11/11 [==============================] - 0s 15ms/step - loss: 0.3024 - accuracy: 0.8272\n",
            "Epoch 8/60\n",
            "11/11 [==============================] - 0s 7ms/step - loss: 0.3019 - accuracy: 0.8272\n",
            "Epoch 9/60\n",
            "11/11 [==============================] - 0s 6ms/step - loss: 0.3014 - accuracy: 0.8302\n",
            "Epoch 10/60\n",
            "11/11 [==============================] - 0s 7ms/step - loss: 0.3010 - accuracy: 0.8302\n",
            "Epoch 11/60\n",
            "11/11 [==============================] - 0s 6ms/step - loss: 0.3005 - accuracy: 0.8302\n",
            "Epoch 12/60\n",
            "11/11 [==============================] - 0s 6ms/step - loss: 0.2971 - accuracy: 0.8333\n",
            "Epoch 13/60\n",
            "11/11 [==============================] - 0s 6ms/step - loss: 0.2965 - accuracy: 0.8333\n",
            "Epoch 14/60\n",
            "11/11 [==============================] - 0s 6ms/step - loss: 0.2852 - accuracy: 0.8457\n",
            "Epoch 15/60\n",
            "11/11 [==============================] - 0s 6ms/step - loss: 0.2822 - accuracy: 0.8488\n",
            "Epoch 16/60\n",
            "11/11 [==============================] - 0s 6ms/step - loss: 0.2757 - accuracy: 0.8549\n",
            "Epoch 17/60\n",
            "11/11 [==============================] - 0s 6ms/step - loss: 0.2756 - accuracy: 0.8549\n",
            "Epoch 18/60\n",
            "11/11 [==============================] - 0s 6ms/step - loss: 0.2755 - accuracy: 0.8549\n",
            "Epoch 19/60\n",
            "11/11 [==============================] - 0s 6ms/step - loss: 0.2755 - accuracy: 0.8549\n",
            "Epoch 20/60\n",
            "11/11 [==============================] - 0s 5ms/step - loss: 0.2755 - accuracy: 0.8549\n",
            "Epoch 21/60\n",
            "11/11 [==============================] - 0s 6ms/step - loss: 0.2754 - accuracy: 0.8549\n",
            "Epoch 22/60\n",
            "11/11 [==============================] - 0s 7ms/step - loss: 0.2754 - accuracy: 0.8549\n",
            "Epoch 23/60\n",
            "11/11 [==============================] - 0s 7ms/step - loss: 0.2753 - accuracy: 0.8549\n",
            "Epoch 24/60\n",
            "11/11 [==============================] - 0s 6ms/step - loss: 0.2752 - accuracy: 0.8549\n",
            "Epoch 25/60\n",
            "11/11 [==============================] - 0s 6ms/step - loss: 0.2752 - accuracy: 0.8549\n",
            "Epoch 26/60\n",
            "11/11 [==============================] - 0s 6ms/step - loss: 0.2751 - accuracy: 0.8549\n",
            "Epoch 27/60\n",
            "11/11 [==============================] - 0s 5ms/step - loss: 0.2750 - accuracy: 0.8549\n",
            "Epoch 28/60\n",
            "11/11 [==============================] - 0s 5ms/step - loss: 0.2749 - accuracy: 0.8549\n",
            "Epoch 29/60\n",
            "11/11 [==============================] - 0s 5ms/step - loss: 0.2748 - accuracy: 0.8549\n",
            "Epoch 30/60\n",
            "11/11 [==============================] - 0s 5ms/step - loss: 0.2748 - accuracy: 0.8549\n",
            "Epoch 31/60\n",
            "11/11 [==============================] - 0s 6ms/step - loss: 0.2747 - accuracy: 0.8549\n",
            "Epoch 32/60\n",
            "11/11 [==============================] - 0s 6ms/step - loss: 0.2746 - accuracy: 0.8549\n",
            "Epoch 33/60\n",
            "11/11 [==============================] - 0s 6ms/step - loss: 0.2745 - accuracy: 0.8549\n",
            "Epoch 34/60\n",
            "11/11 [==============================] - 0s 5ms/step - loss: 0.2744 - accuracy: 0.8549\n",
            "Epoch 35/60\n",
            "11/11 [==============================] - 0s 7ms/step - loss: 0.2744 - accuracy: 0.8549\n",
            "Epoch 36/60\n",
            "11/11 [==============================] - 0s 6ms/step - loss: 0.2743 - accuracy: 0.8549\n",
            "Epoch 37/60\n",
            "11/11 [==============================] - 0s 6ms/step - loss: 0.2743 - accuracy: 0.8549\n",
            "Epoch 38/60\n",
            "11/11 [==============================] - 0s 6ms/step - loss: 0.2742 - accuracy: 0.8549\n",
            "Epoch 39/60\n",
            "11/11 [==============================] - 0s 6ms/step - loss: 0.2741 - accuracy: 0.8549\n",
            "Epoch 40/60\n",
            "11/11 [==============================] - 0s 6ms/step - loss: 0.2740 - accuracy: 0.8549\n",
            "Epoch 41/60\n",
            "11/11 [==============================] - 0s 6ms/step - loss: 0.2739 - accuracy: 0.8549\n",
            "Epoch 42/60\n",
            "11/11 [==============================] - 0s 5ms/step - loss: 0.2707 - accuracy: 0.8580\n",
            "Epoch 43/60\n",
            "11/11 [==============================] - 0s 6ms/step - loss: 0.2704 - accuracy: 0.8580\n",
            "Epoch 44/60\n",
            "11/11 [==============================] - 0s 5ms/step - loss: 0.2702 - accuracy: 0.8580\n",
            "Epoch 45/60\n",
            "11/11 [==============================] - 0s 6ms/step - loss: 0.2701 - accuracy: 0.8580\n",
            "Epoch 46/60\n",
            "11/11 [==============================] - 0s 6ms/step - loss: 0.2699 - accuracy: 0.8580\n",
            "Epoch 47/60\n",
            "11/11 [==============================] - 0s 6ms/step - loss: 0.2698 - accuracy: 0.8580\n",
            "Epoch 48/60\n",
            "11/11 [==============================] - 0s 6ms/step - loss: 0.2697 - accuracy: 0.8580\n",
            "Epoch 49/60\n",
            "11/11 [==============================] - 0s 6ms/step - loss: 0.2695 - accuracy: 0.8580\n",
            "Epoch 50/60\n",
            "11/11 [==============================] - 0s 6ms/step - loss: 0.2694 - accuracy: 0.8580\n",
            "Epoch 51/60\n",
            "11/11 [==============================] - 0s 7ms/step - loss: 0.2692 - accuracy: 0.8580\n",
            "Epoch 52/60\n",
            "11/11 [==============================] - 0s 6ms/step - loss: 0.2691 - accuracy: 0.8611\n",
            "Epoch 53/60\n",
            "11/11 [==============================] - 0s 6ms/step - loss: 0.2690 - accuracy: 0.8611\n",
            "Epoch 54/60\n",
            "11/11 [==============================] - 0s 6ms/step - loss: 0.2688 - accuracy: 0.8611\n",
            "Epoch 55/60\n",
            "11/11 [==============================] - 0s 6ms/step - loss: 0.2656 - accuracy: 0.8642\n",
            "Epoch 56/60\n",
            "11/11 [==============================] - 0s 6ms/step - loss: 0.2655 - accuracy: 0.8642\n",
            "Epoch 57/60\n",
            "11/11 [==============================] - 0s 6ms/step - loss: 0.2654 - accuracy: 0.8642\n",
            "Epoch 58/60\n",
            "11/11 [==============================] - 0s 6ms/step - loss: 0.2653 - accuracy: 0.8642\n",
            "Epoch 59/60\n",
            "11/11 [==============================] - 0s 6ms/step - loss: 0.2651 - accuracy: 0.8642\n",
            "Epoch 60/60\n",
            "11/11 [==============================] - 0s 6ms/step - loss: 0.2618 - accuracy: 0.8673\n"
          ]
        },
        {
          "output_type": "execute_result",
          "data": {
            "text/plain": [
              "<keras.callbacks.History at 0x7f0d6303b190>"
            ]
          },
          "metadata": {},
          "execution_count": 75
        }
      ]
    },
    {
      "cell_type": "code",
      "source": [
        "jordan_model.evaluate(X_test,y_test)"
      ],
      "metadata": {
        "colab": {
          "base_uri": "https://localhost:8080/"
        },
        "id": "pkkYrNz5asdh",
        "outputId": "69406b8a-3a41-4131-f009-52ccc2a5576e"
      },
      "execution_count": 68,
      "outputs": [
        {
          "output_type": "stream",
          "name": "stdout",
          "text": [
            "3/3 [==============================] - 0s 4ms/step - loss: 0.2902 - accuracy: 0.8387\n"
          ]
        },
        {
          "output_type": "execute_result",
          "data": {
            "text/plain": [
              "[0.2901843190193176, 0.8387096524238586]"
            ]
          },
          "metadata": {},
          "execution_count": 68
        }
      ]
    },
    {
      "cell_type": "code",
      "source": [
        "model1 = keras.models.Sequential()\n",
        "model1.add(keras.layers.Input(shape=(15,6)))\n",
        "model1.add(keras.layers.SimpleRNN(20))\n",
        "model1.add(keras.layers.Dense(2,activation=\"softmax\"))\n",
        "\n",
        "model2 = keras.models.Sequential()\n",
        "model2.add(keras.layers.Input(shape=(15,6)))\n",
        "model2.add(keras.layers.SimpleRNN(30))\n",
        "model2.add(keras.layers.Dense(2,activation=\"softmax\"))\n",
        "\n",
        "\n",
        "model3 = keras.models.Sequential()\n",
        "model3.add(keras.layers.Input(shape=(15,6)))\n",
        "model3.add(keras.layers.SimpleRNN(50))\n",
        "model3.add(keras.layers.Dense(2,activation=\"softmax\"))"
      ],
      "metadata": {
        "id": "f1U_Bd4Dld9z"
      },
      "execution_count": 89,
      "outputs": []
    },
    {
      "cell_type": "code",
      "source": [
        "models = [model1, model2, model3] #stacking individual models in a list\n",
        "model_input = tf.keras.Input(shape=(15,6)) #takes a list of tensors as input, all of the same shape\n",
        "model_outputs = [model(model_input) for model in models] #collects outputs of models in a list\n",
        "ensemble_output = tf.keras.layers.Average()(model_outputs) #averaging outputs\n",
        "ensemble_model = tf.keras.Model(inputs=model_input, outputs=ensemble_output)\n",
        "ensemble_model.summary() #prints a comprehensive summary of the Keras model"
      ],
      "metadata": {
        "colab": {
          "base_uri": "https://localhost:8080/"
        },
        "id": "67d3Q5EqLur8",
        "outputId": "fd6d24ce-a63f-4bfe-ffa8-4f2b7befdc47"
      },
      "execution_count": 38,
      "outputs": [
        {
          "output_type": "stream",
          "name": "stdout",
          "text": [
            "Model: \"model_3\"\n",
            "__________________________________________________________________________________________________\n",
            " Layer (type)                   Output Shape         Param #     Connected to                     \n",
            "==================================================================================================\n",
            " input_22 (InputLayer)          [(None, 15, 6)]      0           []                               \n",
            "                                                                                                  \n",
            " sequential_11 (Sequential)     (None, 2)            582         ['input_22[0][0]']               \n",
            "                                                                                                  \n",
            " sequential_12 (Sequential)     (None, 2)            1172        ['input_22[0][0]']               \n",
            "                                                                                                  \n",
            " sequential_13 (Sequential)     (None, 2)            2952        ['input_22[0][0]']               \n",
            "                                                                                                  \n",
            " average_10 (Average)           (None, 2)            0           ['sequential_11[3][0]',          \n",
            "                                                                  'sequential_12[3][0]',          \n",
            "                                                                  'sequential_13[3][0]']          \n",
            "                                                                                                  \n",
            "==================================================================================================\n",
            "Total params: 4,706\n",
            "Trainable params: 4,706\n",
            "Non-trainable params: 0\n",
            "__________________________________________________________________________________________________\n"
          ]
        }
      ]
    },
    {
      "cell_type": "code",
      "source": [
        "ensemble_model.compile(optimizer=\"adam\",loss=\"sparse_categorical_crossentropy\",metrics=[\"acc\"])\n",
        "ensemble_model.fit(X_train,y_train,epochs=50)"
      ],
      "metadata": {
        "colab": {
          "base_uri": "https://localhost:8080/"
        },
        "id": "iMTPzm5QMHkt",
        "outputId": "79911af5-34be-4f1b-e67e-49bb13eacb6c"
      },
      "execution_count": null,
      "outputs": [
        {
          "output_type": "stream",
          "name": "stdout",
          "text": [
            "Epoch 1/50\n",
            "11/11 [==============================] - 2s 9ms/step - loss: 0.2073 - acc: 0.9444\n",
            "Epoch 2/50\n",
            "11/11 [==============================] - 0s 10ms/step - loss: 0.1709 - acc: 0.9383\n",
            "Epoch 3/50\n",
            "11/11 [==============================] - 0s 9ms/step - loss: 0.1794 - acc: 0.9568\n",
            "Epoch 4/50\n",
            "11/11 [==============================] - 0s 10ms/step - loss: 0.1637 - acc: 0.9691\n",
            "Epoch 5/50\n",
            "11/11 [==============================] - 0s 9ms/step - loss: 0.1693 - acc: 0.9290\n",
            "Epoch 6/50\n",
            "11/11 [==============================] - 0s 10ms/step - loss: 0.1515 - acc: 0.9444\n",
            "Epoch 7/50\n",
            "11/11 [==============================] - 0s 9ms/step - loss: 0.1375 - acc: 0.9630\n",
            "Epoch 8/50\n",
            "11/11 [==============================] - 0s 9ms/step - loss: 0.1230 - acc: 0.9352\n",
            "Epoch 9/50\n",
            "11/11 [==============================] - 0s 8ms/step - loss: 0.1200 - acc: 0.9383\n",
            "Epoch 10/50\n",
            "11/11 [==============================] - 0s 9ms/step - loss: 0.1163 - acc: 0.9599\n",
            "Epoch 11/50\n",
            "11/11 [==============================] - 0s 12ms/step - loss: 0.2043 - acc: 0.9414\n",
            "Epoch 12/50\n",
            "11/11 [==============================] - 0s 10ms/step - loss: 0.2328 - acc: 0.9259\n",
            "Epoch 13/50\n",
            "11/11 [==============================] - 0s 9ms/step - loss: 0.2340 - acc: 0.9074\n",
            "Epoch 14/50\n",
            "11/11 [==============================] - 0s 9ms/step - loss: 0.2098 - acc: 0.9321\n",
            "Epoch 15/50\n",
            "11/11 [==============================] - 0s 9ms/step - loss: 0.2065 - acc: 0.9352\n",
            "Epoch 16/50\n",
            "11/11 [==============================] - 0s 9ms/step - loss: 0.1961 - acc: 0.9506\n",
            "Epoch 17/50\n",
            "11/11 [==============================] - 0s 9ms/step - loss: 0.1905 - acc: 0.9506\n",
            "Epoch 18/50\n",
            "11/11 [==============================] - 0s 9ms/step - loss: 0.1877 - acc: 0.9537\n",
            "Epoch 19/50\n",
            "11/11 [==============================] - 0s 9ms/step - loss: 0.1872 - acc: 0.9506\n",
            "Epoch 20/50\n",
            "11/11 [==============================] - 0s 9ms/step - loss: 0.1810 - acc: 0.9506\n",
            "Epoch 21/50\n",
            "11/11 [==============================] - 0s 10ms/step - loss: 0.1554 - acc: 0.9506\n",
            "Epoch 22/50\n",
            "11/11 [==============================] - 0s 9ms/step - loss: 0.1402 - acc: 0.9475\n",
            "Epoch 23/50\n",
            "11/11 [==============================] - 0s 10ms/step - loss: 0.1201 - acc: 0.9691\n",
            "Epoch 24/50\n",
            "11/11 [==============================] - 0s 9ms/step - loss: 0.1292 - acc: 0.9599\n",
            "Epoch 25/50\n",
            "11/11 [==============================] - 0s 9ms/step - loss: 0.1216 - acc: 0.9537\n",
            "Epoch 26/50\n",
            "11/11 [==============================] - 0s 8ms/step - loss: 0.1151 - acc: 0.9383\n",
            "Epoch 27/50\n",
            "11/11 [==============================] - 0s 9ms/step - loss: 0.1539 - acc: 0.9414\n",
            "Epoch 28/50\n",
            "11/11 [==============================] - 0s 9ms/step - loss: 0.1368 - acc: 0.9846\n",
            "Epoch 29/50\n",
            "11/11 [==============================] - 0s 9ms/step - loss: 0.1575 - acc: 0.9753\n",
            "Epoch 30/50\n",
            "11/11 [==============================] - 0s 10ms/step - loss: 0.1342 - acc: 0.9907\n",
            "Epoch 31/50\n",
            "11/11 [==============================] - 0s 9ms/step - loss: 0.1279 - acc: 0.9815\n",
            "Epoch 32/50\n",
            "11/11 [==============================] - 0s 9ms/step - loss: 0.0939 - acc: 0.9630\n",
            "Epoch 33/50\n",
            "11/11 [==============================] - 0s 9ms/step - loss: 0.1023 - acc: 0.9691\n",
            "Epoch 34/50\n",
            "11/11 [==============================] - 0s 8ms/step - loss: 0.1276 - acc: 0.9599\n",
            "Epoch 35/50\n",
            "11/11 [==============================] - 0s 8ms/step - loss: 0.1606 - acc: 0.9105\n",
            "Epoch 36/50\n",
            "11/11 [==============================] - 0s 9ms/step - loss: 0.1839 - acc: 0.9475\n",
            "Epoch 37/50\n",
            "11/11 [==============================] - 0s 9ms/step - loss: 0.1562 - acc: 0.9475\n",
            "Epoch 38/50\n",
            "11/11 [==============================] - 0s 9ms/step - loss: 0.1327 - acc: 0.9537\n",
            "Epoch 39/50\n",
            "11/11 [==============================] - 0s 9ms/step - loss: 0.1416 - acc: 0.9630\n",
            "Epoch 40/50\n",
            "11/11 [==============================] - 0s 10ms/step - loss: 0.1269 - acc: 0.9506\n",
            "Epoch 41/50\n",
            "11/11 [==============================] - 0s 9ms/step - loss: 0.1124 - acc: 0.9537\n",
            "Epoch 42/50\n",
            "11/11 [==============================] - 0s 8ms/step - loss: 0.1229 - acc: 0.9414\n",
            "Epoch 43/50\n",
            "11/11 [==============================] - 0s 8ms/step - loss: 0.0952 - acc: 0.9568\n",
            "Epoch 44/50\n",
            "11/11 [==============================] - 0s 9ms/step - loss: 0.0810 - acc: 0.9660\n",
            "Epoch 45/50\n",
            "11/11 [==============================] - 0s 9ms/step - loss: 0.0859 - acc: 0.9630\n",
            "Epoch 46/50\n",
            "11/11 [==============================] - 0s 9ms/step - loss: 0.0752 - acc: 0.9753\n",
            "Epoch 47/50\n",
            "11/11 [==============================] - 0s 9ms/step - loss: 0.0687 - acc: 0.9815\n",
            "Epoch 48/50\n",
            "11/11 [==============================] - 0s 9ms/step - loss: 0.0675 - acc: 0.9938\n",
            "Epoch 49/50\n",
            "11/11 [==============================] - 0s 11ms/step - loss: 0.0640 - acc: 0.9630\n",
            "Epoch 50/50\n",
            "11/11 [==============================] - 0s 9ms/step - loss: 0.0764 - acc: 0.9722\n"
          ]
        },
        {
          "output_type": "execute_result",
          "data": {
            "text/plain": [
              "<keras.callbacks.History at 0x7f0d6eb95fd0>"
            ]
          },
          "metadata": {},
          "execution_count": 30
        }
      ]
    },
    {
      "cell_type": "code",
      "source": [
        "ensemble_model.evaluate(X_test,y_test)"
      ],
      "metadata": {
        "colab": {
          "base_uri": "https://localhost:8080/"
        },
        "id": "EZCaaZ38H-YD",
        "outputId": "40c30e06-5c0b-4304-8086-19a8bf8328c4"
      },
      "execution_count": null,
      "outputs": [
        {
          "output_type": "stream",
          "name": "stdout",
          "text": [
            "3/3 [==============================] - 1s 9ms/step - loss: 0.1104 - acc: 0.9785\n"
          ]
        },
        {
          "output_type": "execute_result",
          "data": {
            "text/plain": [
              "[0.11036979407072067, 0.9784946441650391]"
            ]
          },
          "metadata": {},
          "execution_count": 31
        }
      ]
    },
    {
      "cell_type": "code",
      "source": [
        "cell = jordanRNN(128)\n",
        "RNN_layer = keras.layers.RNN(cell)\n",
        "jordan_model1 = keras.models.Sequential()\n",
        "jordan_model1.add(keras.Input(shape=(15, 6)))\n",
        "jordan_model1.add(RNN_layer)\n",
        "jordan_model1.add(keras.layers.Dense(2, activation='softmax'))\n",
        "\n",
        "cell = jordanRNN(64)\n",
        "RNN_layer = keras.layers.RNN(cell)\n",
        "RNN_layer = keras.layers.RNN(cell)\n",
        "jordan_model2 = keras.models.Sequential()\n",
        "jordan_model2.add(keras.Input(shape=(15, 6)))\n",
        "jordan_model2.add(RNN_layer)\n",
        "jordan_model2.add(keras.layers.Dense(2, activation='softmax'))\n",
        "\n",
        "cell = jordanRNN(32)\n",
        "RNN_layer = keras.layers.RNN(cell)\n",
        "RNN_layer = keras.layers.RNN(cell)\n",
        "jordan_model3 = keras.models.Sequential()\n",
        "jordan_model3.add(keras.Input(shape=(15, 6)))\n",
        "jordan_model3.add(RNN_layer)\n",
        "jordan_model3.add(keras.layers.Dense(2, activation='softmax'))\n"
      ],
      "metadata": {
        "id": "51YpWDhfcDoP"
      },
      "execution_count": 78,
      "outputs": []
    },
    {
      "cell_type": "code",
      "source": [
        "models = [jordan_model1, jordan_model2, jordan_model3] #stacking individual models in a list\n",
        "model_input = tf.keras.Input(shape=(15,6)) #takes a list of tensors as input, all of the same shape\n",
        "model_outputs = [model(model_input) for model in models] #collects outputs of models in a list\n",
        "ensemble_output = tf.keras.layers.Average()(model_outputs) #averaging outputs\n",
        "ensemble_model = tf.keras.Model(inputs=model_input, outputs=ensemble_output)\n",
        "ensemble_model.summary() #prints a comprehensive summary of the Keras model\n"
      ],
      "metadata": {
        "colab": {
          "base_uri": "https://localhost:8080/"
        },
        "id": "X7Wkf7hDgLZy",
        "outputId": "ddff7f26-3e50-4a3f-c3ba-cb987f3861d2"
      },
      "execution_count": 94,
      "outputs": [
        {
          "output_type": "stream",
          "name": "stdout",
          "text": [
            "Model: \"model_11\"\n",
            "__________________________________________________________________________________________________\n",
            " Layer (type)                   Output Shape         Param #     Connected to                     \n",
            "==================================================================================================\n",
            " input_54 (InputLayer)          [(None, 15, 6)]      0           []                               \n",
            "                                                                                                  \n",
            " sequential_33 (Sequential)     (None, 2)            33794       ['input_54[0][0]']               \n",
            "                                                                                                  \n",
            " sequential_34 (Sequential)     (None, 2)            8706        ['input_54[0][0]']               \n",
            "                                                                                                  \n",
            " sequential_35 (Sequential)     (None, 2)            2306        ['input_54[0][0]']               \n",
            "                                                                                                  \n",
            " average_18 (Average)           (None, 2)            0           ['sequential_33[4][0]',          \n",
            "                                                                  'sequential_34[7][0]',          \n",
            "                                                                  'sequential_35[2][0]']          \n",
            "                                                                                                  \n",
            "==================================================================================================\n",
            "Total params: 44,806\n",
            "Trainable params: 44,806\n",
            "Non-trainable params: 0\n",
            "__________________________________________________________________________________________________\n"
          ]
        }
      ]
    },
    {
      "cell_type": "code",
      "source": [
        "ensemble_model.compile(optimizer=\"adam\",loss=\"sparse_categorical_crossentropy\",metrics=[\"acc\"])\n",
        "ensemble_model.fit(X_train,y_train,epochs=50)"
      ],
      "metadata": {
        "colab": {
          "base_uri": "https://localhost:8080/"
        },
        "id": "vtNMJ3eXggN-",
        "outputId": "31c51956-fc7f-404e-e811-77780b02ca7e"
      },
      "execution_count": 95,
      "outputs": [
        {
          "output_type": "stream",
          "name": "stdout",
          "text": [
            "Epoch 1/50\n",
            "11/11 [==============================] - 2s 14ms/step - loss: 0.3646 - acc: 0.7253\n",
            "Epoch 2/50\n",
            "11/11 [==============================] - 0s 14ms/step - loss: 0.4503 - acc: 0.7253\n",
            "Epoch 3/50\n",
            "11/11 [==============================] - 0s 16ms/step - loss: 0.3795 - acc: 0.7253\n",
            "Epoch 4/50\n",
            "11/11 [==============================] - 0s 14ms/step - loss: 0.3833 - acc: 0.7253\n",
            "Epoch 5/50\n",
            "11/11 [==============================] - 0s 14ms/step - loss: 0.3882 - acc: 0.7253\n",
            "Epoch 6/50\n",
            "11/11 [==============================] - 0s 15ms/step - loss: 0.3882 - acc: 0.7253\n",
            "Epoch 7/50\n",
            "11/11 [==============================] - 0s 14ms/step - loss: 0.3881 - acc: 0.7253\n",
            "Epoch 8/50\n",
            "11/11 [==============================] - 0s 14ms/step - loss: 0.3879 - acc: 0.7253\n",
            "Epoch 9/50\n",
            "11/11 [==============================] - 0s 16ms/step - loss: 0.3878 - acc: 0.7253\n",
            "Epoch 10/50\n",
            "11/11 [==============================] - 0s 14ms/step - loss: 0.3877 - acc: 0.7253\n",
            "Epoch 11/50\n",
            "11/11 [==============================] - 0s 14ms/step - loss: 0.3875 - acc: 0.7253\n",
            "Epoch 12/50\n",
            "11/11 [==============================] - 0s 15ms/step - loss: 0.3875 - acc: 0.7253\n",
            "Epoch 13/50\n",
            "11/11 [==============================] - 0s 14ms/step - loss: 0.3874 - acc: 0.7253\n",
            "Epoch 14/50\n",
            "11/11 [==============================] - 0s 14ms/step - loss: 0.3873 - acc: 0.7253\n",
            "Epoch 15/50\n",
            "11/11 [==============================] - 0s 19ms/step - loss: 0.3872 - acc: 0.7253\n",
            "Epoch 16/50\n",
            "11/11 [==============================] - 0s 21ms/step - loss: 0.3872 - acc: 0.7253\n",
            "Epoch 17/50\n",
            "11/11 [==============================] - 0s 19ms/step - loss: 0.3872 - acc: 0.7253\n",
            "Epoch 18/50\n",
            "11/11 [==============================] - 0s 36ms/step - loss: 0.3871 - acc: 0.7253\n",
            "Epoch 19/50\n",
            "11/11 [==============================] - 0s 32ms/step - loss: 0.3871 - acc: 0.7253\n",
            "Epoch 20/50\n",
            "11/11 [==============================] - 0s 25ms/step - loss: 0.3871 - acc: 0.7253\n",
            "Epoch 21/50\n",
            "11/11 [==============================] - 0s 24ms/step - loss: 0.3870 - acc: 0.7253\n",
            "Epoch 22/50\n",
            "11/11 [==============================] - 0s 29ms/step - loss: 0.3870 - acc: 0.7253\n",
            "Epoch 23/50\n",
            "11/11 [==============================] - 0s 14ms/step - loss: 0.3870 - acc: 0.7253\n",
            "Epoch 24/50\n",
            "11/11 [==============================] - 0s 14ms/step - loss: 0.3870 - acc: 0.7253\n",
            "Epoch 25/50\n",
            "11/11 [==============================] - 0s 14ms/step - loss: 0.3870 - acc: 0.7253\n",
            "Epoch 26/50\n",
            "11/11 [==============================] - 0s 14ms/step - loss: 0.3870 - acc: 0.7253\n",
            "Epoch 27/50\n",
            "11/11 [==============================] - 0s 15ms/step - loss: 0.3870 - acc: 0.7253\n",
            "Epoch 28/50\n",
            "11/11 [==============================] - 0s 22ms/step - loss: 0.3869 - acc: 0.7253\n",
            "Epoch 29/50\n",
            "11/11 [==============================] - 0s 29ms/step - loss: 0.3869 - acc: 0.7253\n",
            "Epoch 30/50\n",
            "11/11 [==============================] - 0s 14ms/step - loss: 0.3869 - acc: 0.7253\n",
            "Epoch 31/50\n",
            "11/11 [==============================] - 0s 21ms/step - loss: 0.3869 - acc: 0.7253\n",
            "Epoch 32/50\n",
            "11/11 [==============================] - 0s 35ms/step - loss: 0.3869 - acc: 0.7253\n",
            "Epoch 33/50\n",
            "11/11 [==============================] - 0s 24ms/step - loss: 0.3869 - acc: 0.7253\n",
            "Epoch 34/50\n",
            "11/11 [==============================] - 0s 14ms/step - loss: 0.3869 - acc: 0.7253\n",
            "Epoch 35/50\n",
            "11/11 [==============================] - 0s 24ms/step - loss: 0.3869 - acc: 0.7253\n",
            "Epoch 36/50\n",
            "11/11 [==============================] - 0s 15ms/step - loss: 0.3869 - acc: 0.7253\n",
            "Epoch 37/50\n",
            "11/11 [==============================] - 0s 40ms/step - loss: 0.3869 - acc: 0.7253\n",
            "Epoch 38/50\n",
            "11/11 [==============================] - 0s 38ms/step - loss: 0.3869 - acc: 0.7253\n",
            "Epoch 39/50\n",
            "11/11 [==============================] - 0s 18ms/step - loss: 0.3869 - acc: 0.7253\n",
            "Epoch 40/50\n",
            "11/11 [==============================] - 0s 20ms/step - loss: 0.3869 - acc: 0.7253\n",
            "Epoch 41/50\n",
            "11/11 [==============================] - 0s 25ms/step - loss: 0.3869 - acc: 0.7253\n",
            "Epoch 42/50\n",
            "11/11 [==============================] - 0s 14ms/step - loss: 0.3869 - acc: 0.7253\n",
            "Epoch 43/50\n",
            "11/11 [==============================] - 0s 34ms/step - loss: 0.3869 - acc: 0.7253\n",
            "Epoch 44/50\n",
            "11/11 [==============================] - 0s 22ms/step - loss: 0.3869 - acc: 0.7253\n",
            "Epoch 45/50\n",
            "11/11 [==============================] - 0s 18ms/step - loss: 0.3869 - acc: 0.7253\n",
            "Epoch 46/50\n",
            "11/11 [==============================] - 0s 24ms/step - loss: 0.3868 - acc: 0.7253\n",
            "Epoch 47/50\n",
            "11/11 [==============================] - 0s 21ms/step - loss: 0.3868 - acc: 0.7253\n",
            "Epoch 48/50\n",
            "11/11 [==============================] - 0s 25ms/step - loss: 0.3868 - acc: 0.7253\n",
            "Epoch 49/50\n",
            "11/11 [==============================] - 0s 14ms/step - loss: 0.3868 - acc: 0.7253\n",
            "Epoch 50/50\n",
            "11/11 [==============================] - 0s 32ms/step - loss: 0.3868 - acc: 0.7253\n"
          ]
        },
        {
          "output_type": "execute_result",
          "data": {
            "text/plain": [
              "<keras.callbacks.History at 0x7f0d63019c50>"
            ]
          },
          "metadata": {},
          "execution_count": 95
        }
      ]
    },
    {
      "cell_type": "code",
      "source": [
        "ensemble_model.evaluate(X_test,y_test)"
      ],
      "metadata": {
        "colab": {
          "base_uri": "https://localhost:8080/"
        },
        "id": "Y7zbyVGzisK-",
        "outputId": "8b9f74d8-d9a1-4328-907d-daf99ddfa3af"
      },
      "execution_count": 97,
      "outputs": [
        {
          "output_type": "stream",
          "name": "stdout",
          "text": [
            "3/3 [==============================] - 1s 7ms/step - loss: 0.4170 - acc: 0.7204\n"
          ]
        },
        {
          "output_type": "execute_result",
          "data": {
            "text/plain": [
              "[0.41703662276268005, 0.7204301357269287]"
            ]
          },
          "metadata": {},
          "execution_count": 97
        }
      ]
    },
    {
      "cell_type": "code",
      "source": [
        "models = [ jordan_model2, model2 ,model3] #stacking individual models in a list\n",
        "model_input = tf.keras.Input(shape=(15,6)) #takes a list of tensors as input, all of the same shape\n",
        "model_outputs = [model(model_input) for model in models] #collects outputs of models in a list\n",
        "ensemble_output = tf.keras.layers.Average()(model_outputs) #averaging outputs\n",
        "ensemble_model = tf.keras.Model(inputs=model_input, outputs=ensemble_output)\n",
        "ensemble_model.summary() #prints a comprehensive summary of the Keras model"
      ],
      "metadata": {
        "colab": {
          "base_uri": "https://localhost:8080/"
        },
        "id": "o_tiLugagqs9",
        "outputId": "1ed6779b-be09-45ba-f99d-b219fec927d5"
      },
      "execution_count": 101,
      "outputs": [
        {
          "output_type": "stream",
          "name": "stdout",
          "text": [
            "Model: \"model_14\"\n",
            "__________________________________________________________________________________________________\n",
            " Layer (type)                   Output Shape         Param #     Connected to                     \n",
            "==================================================================================================\n",
            " input_57 (InputLayer)          [(None, 15, 6)]      0           []                               \n",
            "                                                                                                  \n",
            " sequential_34 (Sequential)     (None, 2)            8706        ['input_57[0][0]']               \n",
            "                                                                                                  \n",
            " sequential_37 (Sequential)     (None, 2)            1172        ['input_57[0][0]']               \n",
            "                                                                                                  \n",
            " sequential_38 (Sequential)     (None, 2)            2952        ['input_57[0][0]']               \n",
            "                                                                                                  \n",
            " average_21 (Average)           (None, 2)            0           ['sequential_34[10][0]',         \n",
            "                                                                  'sequential_37[3][0]',          \n",
            "                                                                  'sequential_38[3][0]']          \n",
            "                                                                                                  \n",
            "==================================================================================================\n",
            "Total params: 12,830\n",
            "Trainable params: 12,830\n",
            "Non-trainable params: 0\n",
            "__________________________________________________________________________________________________\n"
          ]
        }
      ]
    },
    {
      "cell_type": "code",
      "source": [
        "ensemble_model.compile(optimizer=\"adam\",loss=\"sparse_categorical_crossentropy\",metrics=[\"acc\"])\n",
        "ensemble_model.fit(X_train,y_train,epochs=50)"
      ],
      "metadata": {
        "colab": {
          "base_uri": "https://localhost:8080/"
        },
        "id": "y9rZRXVugvbH",
        "outputId": "083e90b1-02af-4957-cd3e-23a40e0332f2"
      },
      "execution_count": 103,
      "outputs": [
        {
          "output_type": "stream",
          "name": "stdout",
          "text": [
            "Epoch 1/50\n",
            "11/11 [==============================] - 2s 10ms/step - loss: 0.2587 - acc: 0.9167\n",
            "Epoch 2/50\n",
            "11/11 [==============================] - 0s 10ms/step - loss: 0.2680 - acc: 0.9167\n",
            "Epoch 3/50\n",
            "11/11 [==============================] - 0s 11ms/step - loss: 0.2494 - acc: 0.9321\n",
            "Epoch 4/50\n",
            "11/11 [==============================] - 0s 10ms/step - loss: 0.2474 - acc: 0.9352\n",
            "Epoch 5/50\n",
            "11/11 [==============================] - 0s 10ms/step - loss: 0.2457 - acc: 0.9352\n",
            "Epoch 6/50\n",
            "11/11 [==============================] - 0s 11ms/step - loss: 0.2450 - acc: 0.9352\n",
            "Epoch 7/50\n",
            "11/11 [==============================] - 0s 10ms/step - loss: 0.2439 - acc: 0.9352\n",
            "Epoch 8/50\n",
            "11/11 [==============================] - 0s 10ms/step - loss: 0.2386 - acc: 0.9383\n",
            "Epoch 9/50\n",
            "11/11 [==============================] - 0s 10ms/step - loss: 0.2440 - acc: 0.9383\n",
            "Epoch 10/50\n",
            "11/11 [==============================] - 0s 10ms/step - loss: 0.2445 - acc: 0.9352\n",
            "Epoch 11/50\n",
            "11/11 [==============================] - 0s 10ms/step - loss: 0.2384 - acc: 0.9414\n",
            "Epoch 12/50\n",
            "11/11 [==============================] - 0s 11ms/step - loss: 0.2364 - acc: 0.9414\n",
            "Epoch 13/50\n",
            "11/11 [==============================] - 0s 13ms/step - loss: 0.2391 - acc: 0.9444\n",
            "Epoch 14/50\n",
            "11/11 [==============================] - 0s 10ms/step - loss: 0.2364 - acc: 0.9414\n",
            "Epoch 15/50\n",
            "11/11 [==============================] - 0s 10ms/step - loss: 0.2372 - acc: 0.9414\n",
            "Epoch 16/50\n",
            "11/11 [==============================] - 0s 12ms/step - loss: 0.2372 - acc: 0.9444\n",
            "Epoch 17/50\n",
            "11/11 [==============================] - 0s 13ms/step - loss: 0.2396 - acc: 0.9414\n",
            "Epoch 18/50\n",
            "11/11 [==============================] - 0s 10ms/step - loss: 0.2594 - acc: 0.9074\n",
            "Epoch 19/50\n",
            "11/11 [==============================] - 0s 10ms/step - loss: 0.2802 - acc: 0.8827\n",
            "Epoch 20/50\n",
            "11/11 [==============================] - 0s 11ms/step - loss: 0.2526 - acc: 0.9290\n",
            "Epoch 21/50\n",
            "11/11 [==============================] - 0s 10ms/step - loss: 0.2507 - acc: 0.9321\n",
            "Epoch 22/50\n",
            "11/11 [==============================] - 0s 12ms/step - loss: 0.2451 - acc: 0.9352\n",
            "Epoch 23/50\n",
            "11/11 [==============================] - 0s 11ms/step - loss: 0.2434 - acc: 0.9352\n",
            "Epoch 24/50\n",
            "11/11 [==============================] - 0s 10ms/step - loss: 0.2376 - acc: 0.9444\n",
            "Epoch 25/50\n",
            "11/11 [==============================] - 0s 11ms/step - loss: 0.2382 - acc: 0.9444\n",
            "Epoch 26/50\n",
            "11/11 [==============================] - 0s 13ms/step - loss: 0.2364 - acc: 0.9444\n",
            "Epoch 27/50\n",
            "11/11 [==============================] - 0s 13ms/step - loss: 0.2347 - acc: 0.9475\n",
            "Epoch 28/50\n",
            "11/11 [==============================] - 0s 10ms/step - loss: 0.2374 - acc: 0.9475\n",
            "Epoch 29/50\n",
            "11/11 [==============================] - 0s 11ms/step - loss: 0.2439 - acc: 0.9321\n",
            "Epoch 30/50\n",
            "11/11 [==============================] - 0s 11ms/step - loss: 0.2352 - acc: 0.9444\n",
            "Epoch 31/50\n",
            "11/11 [==============================] - 0s 10ms/step - loss: 0.2412 - acc: 0.9383\n",
            "Epoch 32/50\n",
            "11/11 [==============================] - 0s 11ms/step - loss: 0.2411 - acc: 0.9383\n",
            "Epoch 33/50\n",
            "11/11 [==============================] - 0s 13ms/step - loss: 0.2406 - acc: 0.9383\n",
            "Epoch 34/50\n",
            "11/11 [==============================] - 0s 13ms/step - loss: 0.2349 - acc: 0.9444\n",
            "Epoch 35/50\n",
            "11/11 [==============================] - 0s 14ms/step - loss: 0.2330 - acc: 0.9475\n",
            "Epoch 36/50\n",
            "11/11 [==============================] - 0s 12ms/step - loss: 0.2330 - acc: 0.9475\n",
            "Epoch 37/50\n",
            "11/11 [==============================] - 0s 14ms/step - loss: 0.2329 - acc: 0.9475\n",
            "Epoch 38/50\n",
            "11/11 [==============================] - 0s 13ms/step - loss: 0.2329 - acc: 0.9475\n",
            "Epoch 39/50\n",
            "11/11 [==============================] - 0s 10ms/step - loss: 0.2329 - acc: 0.9475\n",
            "Epoch 40/50\n",
            "11/11 [==============================] - 0s 12ms/step - loss: 0.2329 - acc: 0.9475\n",
            "Epoch 41/50\n",
            "11/11 [==============================] - 0s 11ms/step - loss: 0.2329 - acc: 0.9475\n",
            "Epoch 42/50\n",
            "11/11 [==============================] - 0s 12ms/step - loss: 0.2330 - acc: 0.9475\n",
            "Epoch 43/50\n",
            "11/11 [==============================] - 0s 10ms/step - loss: 0.2330 - acc: 0.9475\n",
            "Epoch 44/50\n",
            "11/11 [==============================] - 0s 12ms/step - loss: 0.2327 - acc: 0.9475\n",
            "Epoch 45/50\n",
            "11/11 [==============================] - 0s 10ms/step - loss: 0.2328 - acc: 0.9475\n",
            "Epoch 46/50\n",
            "11/11 [==============================] - 0s 10ms/step - loss: 0.2335 - acc: 0.9475\n",
            "Epoch 47/50\n",
            "11/11 [==============================] - 0s 13ms/step - loss: 0.2314 - acc: 0.9506\n",
            "Epoch 48/50\n",
            "11/11 [==============================] - 0s 14ms/step - loss: 0.2414 - acc: 0.9321\n",
            "Epoch 49/50\n",
            "11/11 [==============================] - 0s 12ms/step - loss: 0.2639 - acc: 0.9352\n",
            "Epoch 50/50\n",
            "11/11 [==============================] - 0s 10ms/step - loss: 0.2750 - acc: 0.9259\n"
          ]
        },
        {
          "output_type": "execute_result",
          "data": {
            "text/plain": [
              "<keras.callbacks.History at 0x7f0d5b8ef3d0>"
            ]
          },
          "metadata": {},
          "execution_count": 103
        }
      ]
    },
    {
      "cell_type": "code",
      "source": [
        "ensemble_model.evaluate(X_test,y_test)"
      ],
      "metadata": {
        "colab": {
          "base_uri": "https://localhost:8080/"
        },
        "id": "989PUY6ejtZF",
        "outputId": "77d7df0f-ab93-4335-c485-03cf01c1862a"
      },
      "execution_count": 105,
      "outputs": [
        {
          "output_type": "stream",
          "name": "stdout",
          "text": [
            "3/3 [==============================] - 0s 6ms/step - loss: 0.2873 - acc: 0.9247\n"
          ]
        },
        {
          "output_type": "execute_result",
          "data": {
            "text/plain": [
              "[0.28726017475128174, 0.9247311949729919]"
            ]
          },
          "metadata": {},
          "execution_count": 105
        }
      ]
    }
  ]
}